{
 "cells": [
  {
   "cell_type": "markdown",
   "metadata": {},
   "source": [
    "## Material on the midterm\n",
    "\n",
    "#### Chapter 1: Vector Analysis\n",
    "* basic vector calculations (gradients, divergences, cross products, laplacians)\n",
    "* Vector fields and applciation of vector analysis\n",
    "* Vector calculus (fundamental theorems, green's, stokes')\n",
    "* Coordinates and Jacobians\n",
    "\n",
    "#### Chapter 2: Electrostatic\n",
    "* Electric fields and coulomb's law\n",
    "* continuous charge distributions and their E field\n",
    "* flux, gauss law\n",
    "* electric potential\n",
    "* The three fundamental quantities of electrostatic and their relations\n",
    "* work, energy and capacitance\n",
    "\n",
    "#### Chapter 3: E&M (up to and including separation of variables)\n",
    "* Laplace equation, boundary conditions and uniqueness theorem\n",
    "* Methods of images\n",
    "* Seperation of variables\n",
    "\n",
    "#### Possible Midterm Questions\n",
    "* Something about gauss's law and a complicated charge system\n",
    "* Something about separation of variables or methods of images\n",
    "* Something about the three fundamental quantities of electrostatic (e.g. potentials from e fields or charges, e field from a charge distribution, etc.)"
   ]
  },
  {
   "cell_type": "markdown",
   "metadata": {},
   "source": []
  }
 ],
 "metadata": {
  "language_info": {
   "name": "python"
  }
 },
 "nbformat": 4,
 "nbformat_minor": 2
}
